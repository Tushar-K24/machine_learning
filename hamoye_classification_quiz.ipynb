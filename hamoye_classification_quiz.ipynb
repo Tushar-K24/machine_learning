{
  "nbformat": 4,
  "nbformat_minor": 0,
  "metadata": {
    "kernelspec": {
      "display_name": "Python 3",
      "language": "python",
      "name": "python3"
    },
    "language_info": {
      "codemirror_mode": {
        "name": "ipython",
        "version": 3
      },
      "file_extension": ".py",
      "mimetype": "text/x-python",
      "name": "python",
      "nbconvert_exporter": "python",
      "pygments_lexer": "ipython3",
      "version": "3.6.2"
    },
    "colab": {
      "name": "hamoye_classification_quiz.ipynb",
      "provenance": []
    }
  },
  "cells": [
    {
      "cell_type": "code",
      "metadata": {
        "id": "yypDcq_3Yp0b",
        "outputId": "46555490-210f-4b9b-e64a-009785d3c307"
      },
      "source": [
        "import pandas as pd\n",
        "import matplotlib.pyplot as plt\n",
        "import numpy as np\n",
        "import seaborn as sns\n",
        "\n",
        "from sklearn.preprocessing import StandardScaler\n",
        "from sklearn.model_selection import train_test_split\n",
        "from sklearn.ensemble import ExtraTreesClassifier, RandomForestClassifier\n",
        "from xgboost import XGBClassifier\n",
        "from lightgbm import LGBMClassifier\n",
        "\n",
        "from sklearn.metrics import accuracy_score, recall_score, precision_score, f1_score, classification_report, confusion_matrix, roc_curve, roc_auc_score\n",
        "from sklearn.model_selection import cross_val_score\n",
        "from sklearn.model_selection import RandomizedSearchCV"
      ],
      "execution_count": null,
      "outputs": [
        {
          "output_type": "stream",
          "text": [
            "C:\\Users\\Tushar\\Anaconda3\\lib\\site-packages\\sklearn\\ensemble\\weight_boosting.py:29: DeprecationWarning: numpy.core.umath_tests is an internal NumPy module and should not be imported. It will be removed in a future NumPy release.\n",
            "  from numpy.core.umath_tests import inner1d\n"
          ],
          "name": "stderr"
        }
      ]
    },
    {
      "cell_type": "code",
      "metadata": {
        "id": "frHOB5j2Yp0g",
        "outputId": "06f36b2d-8cbf-4401-9ce5-e07d8b39f4ca"
      },
      "source": [
        "df = pd.read_csv('https://archive.ics.uci.edu/ml/machine-learning-databases/00471/Data_for_UCI_named.csv')\n",
        "df.head()"
      ],
      "execution_count": null,
      "outputs": [
        {
          "output_type": "execute_result",
          "data": {
            "text/html": [
              "<div>\n",
              "<style>\n",
              "    .dataframe thead tr:only-child th {\n",
              "        text-align: right;\n",
              "    }\n",
              "\n",
              "    .dataframe thead th {\n",
              "        text-align: left;\n",
              "    }\n",
              "\n",
              "    .dataframe tbody tr th {\n",
              "        vertical-align: top;\n",
              "    }\n",
              "</style>\n",
              "<table border=\"1\" class=\"dataframe\">\n",
              "  <thead>\n",
              "    <tr style=\"text-align: right;\">\n",
              "      <th></th>\n",
              "      <th>tau1</th>\n",
              "      <th>tau2</th>\n",
              "      <th>tau3</th>\n",
              "      <th>tau4</th>\n",
              "      <th>p1</th>\n",
              "      <th>p2</th>\n",
              "      <th>p3</th>\n",
              "      <th>p4</th>\n",
              "      <th>g1</th>\n",
              "      <th>g2</th>\n",
              "      <th>g3</th>\n",
              "      <th>g4</th>\n",
              "      <th>stab</th>\n",
              "      <th>stabf</th>\n",
              "    </tr>\n",
              "  </thead>\n",
              "  <tbody>\n",
              "    <tr>\n",
              "      <th>0</th>\n",
              "      <td>2.959060</td>\n",
              "      <td>3.079885</td>\n",
              "      <td>8.381025</td>\n",
              "      <td>9.780754</td>\n",
              "      <td>3.763085</td>\n",
              "      <td>-0.782604</td>\n",
              "      <td>-1.257395</td>\n",
              "      <td>-1.723086</td>\n",
              "      <td>0.650456</td>\n",
              "      <td>0.859578</td>\n",
              "      <td>0.887445</td>\n",
              "      <td>0.958034</td>\n",
              "      <td>0.055347</td>\n",
              "      <td>unstable</td>\n",
              "    </tr>\n",
              "    <tr>\n",
              "      <th>1</th>\n",
              "      <td>9.304097</td>\n",
              "      <td>4.902524</td>\n",
              "      <td>3.047541</td>\n",
              "      <td>1.369357</td>\n",
              "      <td>5.067812</td>\n",
              "      <td>-1.940058</td>\n",
              "      <td>-1.872742</td>\n",
              "      <td>-1.255012</td>\n",
              "      <td>0.413441</td>\n",
              "      <td>0.862414</td>\n",
              "      <td>0.562139</td>\n",
              "      <td>0.781760</td>\n",
              "      <td>-0.005957</td>\n",
              "      <td>stable</td>\n",
              "    </tr>\n",
              "    <tr>\n",
              "      <th>2</th>\n",
              "      <td>8.971707</td>\n",
              "      <td>8.848428</td>\n",
              "      <td>3.046479</td>\n",
              "      <td>1.214518</td>\n",
              "      <td>3.405158</td>\n",
              "      <td>-1.207456</td>\n",
              "      <td>-1.277210</td>\n",
              "      <td>-0.920492</td>\n",
              "      <td>0.163041</td>\n",
              "      <td>0.766689</td>\n",
              "      <td>0.839444</td>\n",
              "      <td>0.109853</td>\n",
              "      <td>0.003471</td>\n",
              "      <td>unstable</td>\n",
              "    </tr>\n",
              "    <tr>\n",
              "      <th>3</th>\n",
              "      <td>0.716415</td>\n",
              "      <td>7.669600</td>\n",
              "      <td>4.486641</td>\n",
              "      <td>2.340563</td>\n",
              "      <td>3.963791</td>\n",
              "      <td>-1.027473</td>\n",
              "      <td>-1.938944</td>\n",
              "      <td>-0.997374</td>\n",
              "      <td>0.446209</td>\n",
              "      <td>0.976744</td>\n",
              "      <td>0.929381</td>\n",
              "      <td>0.362718</td>\n",
              "      <td>0.028871</td>\n",
              "      <td>unstable</td>\n",
              "    </tr>\n",
              "    <tr>\n",
              "      <th>4</th>\n",
              "      <td>3.134112</td>\n",
              "      <td>7.608772</td>\n",
              "      <td>4.943759</td>\n",
              "      <td>9.857573</td>\n",
              "      <td>3.525811</td>\n",
              "      <td>-1.125531</td>\n",
              "      <td>-1.845975</td>\n",
              "      <td>-0.554305</td>\n",
              "      <td>0.797110</td>\n",
              "      <td>0.455450</td>\n",
              "      <td>0.656947</td>\n",
              "      <td>0.820923</td>\n",
              "      <td>0.049860</td>\n",
              "      <td>unstable</td>\n",
              "    </tr>\n",
              "  </tbody>\n",
              "</table>\n",
              "</div>"
            ],
            "text/plain": [
              "       tau1      tau2      tau3      tau4        p1        p2        p3  \\\n",
              "0  2.959060  3.079885  8.381025  9.780754  3.763085 -0.782604 -1.257395   \n",
              "1  9.304097  4.902524  3.047541  1.369357  5.067812 -1.940058 -1.872742   \n",
              "2  8.971707  8.848428  3.046479  1.214518  3.405158 -1.207456 -1.277210   \n",
              "3  0.716415  7.669600  4.486641  2.340563  3.963791 -1.027473 -1.938944   \n",
              "4  3.134112  7.608772  4.943759  9.857573  3.525811 -1.125531 -1.845975   \n",
              "\n",
              "         p4        g1        g2        g3        g4      stab     stabf  \n",
              "0 -1.723086  0.650456  0.859578  0.887445  0.958034  0.055347  unstable  \n",
              "1 -1.255012  0.413441  0.862414  0.562139  0.781760 -0.005957    stable  \n",
              "2 -0.920492  0.163041  0.766689  0.839444  0.109853  0.003471  unstable  \n",
              "3 -0.997374  0.446209  0.976744  0.929381  0.362718  0.028871  unstable  \n",
              "4 -0.554305  0.797110  0.455450  0.656947  0.820923  0.049860  unstable  "
            ]
          },
          "metadata": {
            "tags": []
          },
          "execution_count": 2
        }
      ]
    },
    {
      "cell_type": "code",
      "metadata": {
        "collapsed": true,
        "id": "9KYsLVtMYp0h"
      },
      "source": [
        "features = df.drop(['stab', 'stabf'], axis = 1)\n",
        "target = df['stabf']\n",
        "x_train, x_test, y_train, y_test = train_test_split(features, target, test_size=.2, random_state=1)"
      ],
      "execution_count": null,
      "outputs": []
    },
    {
      "cell_type": "code",
      "metadata": {
        "collapsed": true,
        "id": "ZhO32aCTYp0h"
      },
      "source": [
        "sc = StandardScaler()\n",
        "x_train = pd.DataFrame(sc.fit_transform(x_train), columns=x_train.columns)\n",
        "x_test = pd.DataFrame(sc.transform(x_test), columns=x_test.columns)"
      ],
      "execution_count": null,
      "outputs": []
    },
    {
      "cell_type": "code",
      "metadata": {
        "id": "exiR0E-1Yp0h",
        "outputId": "bc736cab-aa3b-495c-af46-a490cb50bdf4"
      },
      "source": [
        "#q1\n",
        "\n",
        "#Precision = TP/(TP + FP) \n",
        "p = 355/(355 + 1480)\n",
        "\n",
        "#Recall = TP/(TP + FN)\n",
        "r = 355/(355 + 45)\n",
        "\n",
        "f1 = 2*(p*r)/(p + r)\n",
        "\n",
        "round(f1, 4)"
      ],
      "execution_count": null,
      "outputs": [
        {
          "output_type": "execute_result",
          "data": {
            "text/plain": [
              "0.3177"
            ]
          },
          "metadata": {
            "tags": []
          },
          "execution_count": 6
        }
      ]
    },
    {
      "cell_type": "code",
      "metadata": {
        "id": "dOrSunzdYp0i",
        "outputId": "fef370f3-d662-4e14-b728-3f4093be5c2f"
      },
      "source": [
        "#q4\n",
        "# Recall = TP / (TP + FN)\n",
        "# False Positive Rate = FP / (FP + TN)\n",
        "# Cost = 5 * FP + FN\n",
        "\n",
        "print('Option A')\n",
        "print(f'Recall: {82 / (82 + 18)}')\n",
        "print(f'False Positive Rate: {2 / (2 + 98)}')\n",
        "print(f'Costs: {5 * 2 + 18}\\n')\n",
        "\n",
        "print('Option B')\n",
        "print(f'Recall: {79 / (79 + 21)}')\n",
        "print(f'False Positive Rate: {round(1 / (1 + 91), 2)}')\n",
        "print(f'Costs: {5 * 1 + 21} \\n')\n",
        "\n",
        "print('Option C')\n",
        "print(f'Recall: {90 / (90 + 10)}')\n",
        "print(f'False Positive Rate: {4 / (4 + 96)}')\n",
        "print(f'Costs: {5 * 4 + 10} \\n')\n",
        "\n",
        "print('Option D')\n",
        "print(f'Recall: {78 / (78 + 22)}')\n",
        "print(f'False Positive Rate: {9 / (9 + 91)}')\n",
        "print(f'Costs: {5 * 9 + 22}\\n')"
      ],
      "execution_count": null,
      "outputs": [
        {
          "output_type": "stream",
          "text": [
            "Option A\n",
            "Recall: 0.82\n",
            "False Positive Rate: 0.02\n",
            "Costs: 28\n",
            "\n",
            "Option B\n",
            "Recall: 0.79\n",
            "False Positive Rate: 0.01\n",
            "Costs: 26 \n",
            "\n",
            "Option C\n",
            "Recall: 0.9\n",
            "False Positive Rate: 0.04\n",
            "Costs: 30 \n",
            "\n",
            "Option D\n",
            "Recall: 0.78\n",
            "False Positive Rate: 0.09\n",
            "Costs: 67\n",
            "\n"
          ],
          "name": "stdout"
        }
      ]
    },
    {
      "cell_type": "code",
      "metadata": {
        "id": "2ObZi8GFYp0j",
        "outputId": "103d576f-c2fe-4383-a4ef-52aab4fabb83"
      },
      "source": [
        "#q14\n",
        "forestClassifier = RandomForestClassifier(random_state=1)\n",
        "forestClassifier.fit(x_train, y_train)\n",
        "forest_pred = forestClassifier.predict(x_test)\n",
        "\n",
        "round(accuracy_score(y_test, forest_pred), 4)"
      ],
      "execution_count": null,
      "outputs": [
        {
          "output_type": "execute_result",
          "data": {
            "text/plain": [
              "0.8905"
            ]
          },
          "metadata": {
            "tags": []
          },
          "execution_count": 8
        }
      ]
    },
    {
      "cell_type": "code",
      "metadata": {
        "id": "8M3nXwjhYp0j",
        "outputId": "81eb9b1b-68c8-4348-f315-ec1aac0e13e4"
      },
      "source": [
        "#q15\n",
        "xgbClassifier = XGBClassifier(random_state=1)\n",
        "xgbClassifier.fit(x_train, y_train)\n",
        "xgb_pred = xgbClassifier.predict(x_test)\n",
        "\n",
        "round(accuracy_score(y_test, xgb_pred), 4)"
      ],
      "execution_count": null,
      "outputs": [
        {
          "output_type": "stream",
          "text": [
            "C:\\Users\\Tushar\\Anaconda3\\lib\\site-packages\\xgboost\\sklearn.py:1146: UserWarning: The use of label encoder in XGBClassifier is deprecated and will be removed in a future release. To remove this warning, do the following: 1) Pass option use_label_encoder=False when constructing XGBClassifier object; and 2) Encode your labels (y) as integers starting with 0, i.e. 0, 1, 2, ..., [num_class - 1].\n",
            "  warnings.warn(label_encoder_deprecation_msg, UserWarning)\n"
          ],
          "name": "stderr"
        },
        {
          "output_type": "stream",
          "text": [
            "[23:49:11] WARNING: C:/Users/Administrator/workspace/xgboost-win64_release_1.4.0/src/learner.cc:1095: Starting in XGBoost 1.3.0, the default evaluation metric used with the objective 'binary:logistic' was changed from 'error' to 'logloss'. Explicitly set eval_metric if you'd like to restore the old behavior.\n"
          ],
          "name": "stdout"
        },
        {
          "output_type": "stream",
          "text": [
            "C:\\Users\\Tushar\\Anaconda3\\lib\\site-packages\\sklearn\\preprocessing\\label.py:151: DeprecationWarning: The truth value of an empty array is ambiguous. Returning False, but in future this will result in an error. Use `array.size > 0` to check that an array is not empty.\n",
            "  if diff:\n"
          ],
          "name": "stderr"
        },
        {
          "output_type": "execute_result",
          "data": {
            "text/plain": [
              "0.9455"
            ]
          },
          "metadata": {
            "tags": []
          },
          "execution_count": 9
        }
      ]
    },
    {
      "cell_type": "code",
      "metadata": {
        "id": "ZMeW9lYoYp0k",
        "outputId": "786428bc-e7c1-4fc5-9258-4cc7f175f14a"
      },
      "source": [
        "#q16\n",
        "lgbmClassifier = LGBMClassifier(random_state=1)\n",
        "lgbmClassifier.fit(x_train, y_train)\n",
        "lgbm_pred = lgbmClassifier.predict(x_test)\n",
        "\n",
        "round(accuracy_score(y_test, lgbm_pred), 4)"
      ],
      "execution_count": null,
      "outputs": [
        {
          "output_type": "stream",
          "text": [
            "C:\\Users\\Tushar\\Anaconda3\\lib\\site-packages\\sklearn\\preprocessing\\label.py:151: DeprecationWarning: The truth value of an empty array is ambiguous. Returning False, but in future this will result in an error. Use `array.size > 0` to check that an array is not empty.\n",
            "  if diff:\n"
          ],
          "name": "stderr"
        },
        {
          "output_type": "execute_result",
          "data": {
            "text/plain": [
              "0.9395"
            ]
          },
          "metadata": {
            "tags": []
          },
          "execution_count": 10
        }
      ]
    },
    {
      "cell_type": "code",
      "metadata": {
        "id": "paUwDR75Yp0l",
        "outputId": "4261799b-0528-4cb3-c33c-34e535dc5f6b"
      },
      "source": [
        "#q17\n",
        "n_estimators = [50, 100, 300, 500, 1000]\n",
        "min_samples_split = [2, 3, 5, 7, 9]\n",
        "min_samples_leaf = [1, 2, 4, 6, 8]\n",
        "max_features = ['auto', 'sqrt', 'log2', None] \n",
        "para_dist = {'n_estimators': n_estimators,'min_samples_leaf': min_samples_leaf,\n",
        "                       'min_samples_split': min_samples_split,'max_features': max_features}\n",
        "\n",
        "ext_clf = ExtraTreesClassifier(random_state=1)\n",
        "randomised_grid_search = RandomizedSearchCV(ext_clf, param_distributions= para_dist,\n",
        "                                scoring='accuracy',\n",
        "                                n_iter=10,\n",
        "                                cv=5,\n",
        "                                n_jobs=-1,\n",
        "                                verbose=1,\n",
        "                                random_state=1)\n",
        "\n",
        "randomised_grid_search.fit(x_train, y_train)\n",
        "randomised_grid_search.best_params_"
      ],
      "execution_count": null,
      "outputs": [
        {
          "output_type": "stream",
          "text": [
            "Fitting 5 folds for each of 10 candidates, totalling 50 fits\n"
          ],
          "name": "stdout"
        },
        {
          "output_type": "stream",
          "text": [
            "[Parallel(n_jobs=-1)]: Done  34 tasks      | elapsed:   46.2s\n",
            "[Parallel(n_jobs=-1)]: Done  50 out of  50 | elapsed:  1.2min finished\n"
          ],
          "name": "stderr"
        },
        {
          "output_type": "execute_result",
          "data": {
            "text/plain": [
              "{'max_features': None,\n",
              " 'min_samples_leaf': 8,\n",
              " 'min_samples_split': 2,\n",
              " 'n_estimators': 1000}"
            ]
          },
          "metadata": {
            "tags": []
          },
          "execution_count": 11
        }
      ]
    },
    {
      "cell_type": "code",
      "metadata": {
        "id": "ZH07WRaLYp0m",
        "outputId": "0337f930-a4d7-4e98-90fa-09f76a96e9e1"
      },
      "source": [
        "#q18\n",
        "ext_clf.fit(x_train, y_train)\n",
        "print(round(accuracy_score(y_test, ext_clf.predict(x_test)), 4))\n",
        "\n",
        "new_model = randomised_grid_search.best_estimator_\n",
        "new_model.fit(x_train, y_train)\n",
        "new_pred = new_model.predict(x_test)\n",
        "round(accuracy_score(y_test, new_pred), 4)"
      ],
      "execution_count": null,
      "outputs": [
        {
          "output_type": "stream",
          "text": [
            "0.8915\n"
          ],
          "name": "stdout"
        },
        {
          "output_type": "execute_result",
          "data": {
            "text/plain": [
              "0.927"
            ]
          },
          "metadata": {
            "tags": []
          },
          "execution_count": 12
        }
      ]
    },
    {
      "cell_type": "code",
      "metadata": {
        "id": "xOzrzhy4Yp0n",
        "outputId": "ae0475fe-626b-42b0-9dc9-62ae2b247f0c"
      },
      "source": [
        "#q20\n",
        "feature_importances = new_model.feature_importances_\n",
        "indices = np.argsort(feature_importances)[::-1]\n",
        "names = [x_train.columns[i] for i in indices]\n",
        "\n",
        "plt.figure(figsize=(10, 8))\n",
        "plt.title(\"Feature Importance\")\n",
        "plt.bar(range(x_train.shape[1]), feature_importances[indices])\n",
        "plt.xticks(range(x_train.shape[1]), names, rotation=90)\n",
        "plt.show()"
      ],
      "execution_count": null,
      "outputs": [
        {
          "output_type": "display_data",
          "data": {
            "image/png": "[encoded data removed]",
            "text/plain": [
              "<matplotlib.figure.Figure at 0x1d665f1dbe0>"
            ]
          },
          "metadata": {
            "tags": []
          }
        }
      ]
    }
  ]
}