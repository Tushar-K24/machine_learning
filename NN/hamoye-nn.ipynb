{
 "cells": [
  {
   "cell_type": "code",
   "execution_count": 1,
   "id": "useful-quarter",
   "metadata": {
    "_cell_guid": "b1076dfc-b9ad-4769-8c92-a6c4dae69d19",
    "_uuid": "8f2839f25d086af736a60e9eeb907d3b93b6e0e5",
    "execution": {
     "iopub.execute_input": "2021-06-22T22:02:48.289561Z",
     "iopub.status.busy": "2021-06-22T22:02:48.288338Z",
     "iopub.status.idle": "2021-06-22T22:02:55.008861Z",
     "shell.execute_reply": "2021-06-22T22:02:55.009571Z",
     "shell.execute_reply.started": "2021-06-22T21:08:34.792094Z"
    },
    "papermill": {
     "duration": 6.757517,
     "end_time": "2021-06-22T22:02:55.009875",
     "exception": false,
     "start_time": "2021-06-22T22:02:48.252358",
     "status": "completed"
    },
    "tags": []
   },
   "outputs": [],
   "source": [
    "# This Python 3 environment comes with many helpful analytics libraries installed\n",
    "# It is defined by the kaggle/python Docker image: https://github.com/kaggle/docker-python\n",
    "# For example, here's several helpful packages to load\n",
    "\n",
    "import numpy as np # linear algebra\n",
    "import pandas as pd # data processing, CSV file I/O (e.g. pd.read_csv)\n",
    "import tensorflow as tf\n",
    "from skimage import io\n",
    "import matplotlib.pyplot as plt\n",
    "%matplotlib inline\n",
    "\n",
    "# Input data files are available in the read-only \"../input/\" directory\n",
    "# For example, running this (by clicking run or pressing Shift+Enter) will list all files under the input directory\n",
    "\n",
    "import os\n",
    "\n",
    "# You can write up to 20GB to the current directory (/kaggle/working/) that gets preserved as output when you create a version using \"Save & Run All\" \n",
    "# You can also write temporary files to /kaggle/temp/, but they won't be saved outside of the current session"
   ]
  },
  {
   "cell_type": "code",
   "execution_count": 2,
   "id": "spare-hollow",
   "metadata": {
    "execution": {
     "iopub.execute_input": "2021-06-22T22:02:55.077561Z",
     "iopub.status.busy": "2021-06-22T22:02:55.076816Z",
     "iopub.status.idle": "2021-06-22T22:02:55.164727Z",
     "shell.execute_reply": "2021-06-22T22:02:55.165332Z",
     "shell.execute_reply.started": "2021-06-22T21:08:34.833679Z"
    },
    "papermill": {
     "duration": 0.122944,
     "end_time": "2021-06-22T22:02:55.165525",
     "exception": false,
     "start_time": "2021-06-22T22:02:55.042581",
     "status": "completed"
    },
    "tags": []
   },
   "outputs": [
    {
     "data": {
      "text/html": [
       "<div>\n",
       "<style scoped>\n",
       "    .dataframe tbody tr th:only-of-type {\n",
       "        vertical-align: middle;\n",
       "    }\n",
       "\n",
       "    .dataframe tbody tr th {\n",
       "        vertical-align: top;\n",
       "    }\n",
       "\n",
       "    .dataframe thead th {\n",
       "        text-align: right;\n",
       "    }\n",
       "</style>\n",
       "<table border=\"1\" class=\"dataframe\">\n",
       "  <thead>\n",
       "    <tr style=\"text-align: right;\">\n",
       "      <th></th>\n",
       "      <th>image_name</th>\n",
       "      <th>tags</th>\n",
       "    </tr>\n",
       "  </thead>\n",
       "  <tbody>\n",
       "    <tr>\n",
       "      <th>0</th>\n",
       "      <td>train_0</td>\n",
       "      <td>haze primary</td>\n",
       "    </tr>\n",
       "    <tr>\n",
       "      <th>1</th>\n",
       "      <td>train_1</td>\n",
       "      <td>agriculture clear primary water</td>\n",
       "    </tr>\n",
       "    <tr>\n",
       "      <th>2</th>\n",
       "      <td>train_2</td>\n",
       "      <td>clear primary</td>\n",
       "    </tr>\n",
       "    <tr>\n",
       "      <th>3</th>\n",
       "      <td>train_3</td>\n",
       "      <td>clear primary</td>\n",
       "    </tr>\n",
       "    <tr>\n",
       "      <th>4</th>\n",
       "      <td>train_4</td>\n",
       "      <td>agriculture clear habitation primary road</td>\n",
       "    </tr>\n",
       "  </tbody>\n",
       "</table>\n",
       "</div>"
      ],
      "text/plain": [
       "  image_name                                       tags\n",
       "0    train_0                               haze primary\n",
       "1    train_1            agriculture clear primary water\n",
       "2    train_2                              clear primary\n",
       "3    train_3                              clear primary\n",
       "4    train_4  agriculture clear habitation primary road"
      ]
     },
     "execution_count": 2,
     "metadata": {},
     "output_type": "execute_result"
    }
   ],
   "source": [
    "train_classes_df = pd.read_csv('../input/planets-dataset/planet/planet/train_classes.csv')\n",
    "train_classes_df.head()"
   ]
  },
  {
   "cell_type": "code",
   "execution_count": 3,
   "id": "legislative-gauge",
   "metadata": {
    "execution": {
     "iopub.execute_input": "2021-06-22T22:02:55.233218Z",
     "iopub.status.busy": "2021-06-22T22:02:55.232610Z",
     "iopub.status.idle": "2021-06-22T22:02:56.369300Z",
     "shell.execute_reply": "2021-06-22T22:02:56.368783Z",
     "shell.execute_reply.started": "2021-06-22T21:08:34.883331Z"
    },
    "papermill": {
     "duration": 1.171415,
     "end_time": "2021-06-22T22:02:56.369476",
     "exception": false,
     "start_time": "2021-06-22T22:02:55.198061",
     "status": "completed"
    },
    "tags": []
   },
   "outputs": [
    {
     "name": "stdout",
     "output_type": "stream",
     "text": [
      "40479\r\n"
     ]
    }
   ],
   "source": [
    "!ls ../input/planets-dataset/planet/planet/train-jpg | wc -l"
   ]
  },
  {
   "cell_type": "code",
   "execution_count": 4,
   "id": "fifty-shock",
   "metadata": {
    "execution": {
     "iopub.execute_input": "2021-06-22T22:02:56.442700Z",
     "iopub.status.busy": "2021-06-22T22:02:56.441973Z",
     "iopub.status.idle": "2021-06-22T22:02:56.535159Z",
     "shell.execute_reply": "2021-06-22T22:02:56.534610Z",
     "shell.execute_reply.started": "2021-06-22T21:08:35.819319Z"
    },
    "papermill": {
     "duration": 0.132494,
     "end_time": "2021-06-22T22:02:56.535315",
     "exception": false,
     "start_time": "2021-06-22T22:02:56.402821",
     "status": "completed"
    },
    "tags": []
   },
   "outputs": [
    {
     "data": {
      "text/html": [
       "<div>\n",
       "<style scoped>\n",
       "    .dataframe tbody tr th:only-of-type {\n",
       "        vertical-align: middle;\n",
       "    }\n",
       "\n",
       "    .dataframe tbody tr th {\n",
       "        vertical-align: top;\n",
       "    }\n",
       "\n",
       "    .dataframe thead th {\n",
       "        text-align: right;\n",
       "    }\n",
       "</style>\n",
       "<table border=\"1\" class=\"dataframe\">\n",
       "  <thead>\n",
       "    <tr style=\"text-align: right;\">\n",
       "      <th></th>\n",
       "      <th>image_name</th>\n",
       "      <th>tags</th>\n",
       "    </tr>\n",
       "  </thead>\n",
       "  <tbody>\n",
       "    <tr>\n",
       "      <th>0</th>\n",
       "      <td>test_0</td>\n",
       "      <td>primary clear agriculture road water</td>\n",
       "    </tr>\n",
       "    <tr>\n",
       "      <th>1</th>\n",
       "      <td>test_1</td>\n",
       "      <td>primary clear agriculture road water</td>\n",
       "    </tr>\n",
       "    <tr>\n",
       "      <th>2</th>\n",
       "      <td>test_2</td>\n",
       "      <td>primary clear agriculture road water</td>\n",
       "    </tr>\n",
       "    <tr>\n",
       "      <th>3</th>\n",
       "      <td>test_3</td>\n",
       "      <td>primary clear agriculture road water</td>\n",
       "    </tr>\n",
       "    <tr>\n",
       "      <th>4</th>\n",
       "      <td>test_4</td>\n",
       "      <td>primary clear agriculture road water</td>\n",
       "    </tr>\n",
       "  </tbody>\n",
       "</table>\n",
       "</div>"
      ],
      "text/plain": [
       "  image_name                                  tags\n",
       "0     test_0  primary clear agriculture road water\n",
       "1     test_1  primary clear agriculture road water\n",
       "2     test_2  primary clear agriculture road water\n",
       "3     test_3  primary clear agriculture road water\n",
       "4     test_4  primary clear agriculture road water"
      ]
     },
     "execution_count": 4,
     "metadata": {},
     "output_type": "execute_result"
    }
   ],
   "source": [
    "sample_sub= pd.read_csv('../input/planets-dataset/planet/planet/sample_submission.csv')\n",
    "sample_sub.head()"
   ]
  },
  {
   "cell_type": "code",
   "execution_count": 5,
   "id": "victorian-transport",
   "metadata": {
    "execution": {
     "iopub.execute_input": "2021-06-22T22:02:56.610101Z",
     "iopub.status.busy": "2021-06-22T22:02:56.609381Z",
     "iopub.status.idle": "2021-06-22T22:02:57.226299Z",
     "shell.execute_reply": "2021-06-22T22:02:57.225660Z",
     "shell.execute_reply.started": "2021-06-22T21:08:35.887305Z"
    },
    "papermill": {
     "duration": 0.657139,
     "end_time": "2021-06-22T22:02:57.226474",
     "exception": false,
     "start_time": "2021-06-22T22:02:56.569335",
     "status": "completed"
    },
    "tags": []
   },
   "outputs": [],
   "source": [
    "test1 = !ls ../input/planets-dataset/planet/planet/test-jpg | wc -l\n",
    "test2 = !ls ../input/planets-dataset/test-jpg-additional/test-jpg-additional | wc -l\n",
    "assert sample_sub.shape[0] == float(test1[0])+float(test2[0])"
   ]
  },
  {
   "cell_type": "code",
   "execution_count": 6,
   "id": "threatened-karaoke",
   "metadata": {
    "execution": {
     "iopub.execute_input": "2021-06-22T22:02:57.297209Z",
     "iopub.status.busy": "2021-06-22T22:02:57.296512Z",
     "iopub.status.idle": "2021-06-22T22:02:57.301664Z",
     "shell.execute_reply": "2021-06-22T22:02:57.302141Z",
     "shell.execute_reply.started": "2021-06-22T21:08:36.242125Z"
    },
    "papermill": {
     "duration": 0.042,
     "end_time": "2021-06-22T22:02:57.302301",
     "exception": false,
     "start_time": "2021-06-22T22:02:57.260301",
     "status": "completed"
    },
    "tags": []
   },
   "outputs": [
    {
     "data": {
      "text/plain": [
       "['20522']"
      ]
     },
     "execution_count": 6,
     "metadata": {},
     "output_type": "execute_result"
    }
   ],
   "source": [
    "test2"
   ]
  },
  {
   "cell_type": "code",
   "execution_count": 7,
   "id": "inside-sight",
   "metadata": {
    "execution": {
     "iopub.execute_input": "2021-06-22T22:02:57.372166Z",
     "iopub.status.busy": "2021-06-22T22:02:57.371472Z",
     "iopub.status.idle": "2021-06-22T22:02:57.399158Z",
     "shell.execute_reply": "2021-06-22T22:02:57.398544Z",
     "shell.execute_reply.started": "2021-06-22T21:08:36.251358Z"
    },
    "papermill": {
     "duration": 0.063633,
     "end_time": "2021-06-22T22:02:57.399302",
     "exception": false,
     "start_time": "2021-06-22T22:02:57.335669",
     "status": "completed"
    },
    "tags": []
   },
   "outputs": [],
   "source": [
    "image_number =10\n",
    "img = io.imread('../input/planets-dataset/planet/planet/train-jpg/train_{}.jpg'.format(image_number))"
   ]
  },
  {
   "cell_type": "code",
   "execution_count": 8,
   "id": "inside-nomination",
   "metadata": {
    "execution": {
     "iopub.execute_input": "2021-06-22T22:02:57.470322Z",
     "iopub.status.busy": "2021-06-22T22:02:57.469362Z",
     "iopub.status.idle": "2021-06-22T22:02:57.474439Z",
     "shell.execute_reply": "2021-06-22T22:02:57.474911Z",
     "shell.execute_reply.started": "2021-06-22T21:08:36.276329Z"
    },
    "papermill": {
     "duration": 0.042164,
     "end_time": "2021-06-22T22:02:57.475083",
     "exception": false,
     "start_time": "2021-06-22T22:02:57.432919",
     "status": "completed"
    },
    "tags": []
   },
   "outputs": [
    {
     "data": {
      "text/plain": [
       "(256, 256, 3)"
      ]
     },
     "execution_count": 8,
     "metadata": {},
     "output_type": "execute_result"
    }
   ],
   "source": [
    "img.shape"
   ]
  },
  {
   "cell_type": "code",
   "execution_count": 9,
   "id": "soviet-potential",
   "metadata": {
    "execution": {
     "iopub.execute_input": "2021-06-22T22:02:57.545593Z",
     "iopub.status.busy": "2021-06-22T22:02:57.544600Z",
     "iopub.status.idle": "2021-06-22T22:02:57.755755Z",
     "shell.execute_reply": "2021-06-22T22:02:57.756260Z",
     "shell.execute_reply.started": "2021-06-22T21:08:36.288735Z"
    },
    "papermill": {
     "duration": 0.248218,
     "end_time": "2021-06-22T22:02:57.756453",
     "exception": false,
     "start_time": "2021-06-22T22:02:57.508235",
     "status": "completed"
    },
    "tags": []
   },
   "outputs": [
    {
     "data": {
      "text/plain": [
       "<matplotlib.image.AxesImage at 0x7fdf88b2b950>"
      ]
     },
     "execution_count": 9,
     "metadata": {},
     "output_type": "execute_result"
    },
    {
     "data": {
      "image/png": "[encoded data removed]",
      "text/plain": [
       "<Figure size 432x288 with 1 Axes>"
      ]
     },
     "metadata": {
      "needs_background": "light"
     },
     "output_type": "display_data"
    }
   ],
   "source": [
    "plt.imshow(img)"
   ]
  },
  {
   "cell_type": "code",
   "execution_count": 10,
   "id": "chemical-chinese",
   "metadata": {
    "execution": {
     "iopub.execute_input": "2021-06-22T22:02:57.836841Z",
     "iopub.status.busy": "2021-06-22T22:02:57.836142Z",
     "iopub.status.idle": "2021-06-22T22:02:57.853721Z",
     "shell.execute_reply": "2021-06-22T22:02:57.854212Z",
     "shell.execute_reply.started": "2021-06-22T21:08:36.490014Z"
    },
    "papermill": {
     "duration": 0.05704,
     "end_time": "2021-06-22T22:02:57.854394",
     "exception": false,
     "start_time": "2021-06-22T22:02:57.797354",
     "status": "completed"
    },
    "tags": []
   },
   "outputs": [
    {
     "data": {
      "text/html": [
       "<div>\n",
       "<style scoped>\n",
       "    .dataframe tbody tr th:only-of-type {\n",
       "        vertical-align: middle;\n",
       "    }\n",
       "\n",
       "    .dataframe tbody tr th {\n",
       "        vertical-align: top;\n",
       "    }\n",
       "\n",
       "    .dataframe thead th {\n",
       "        text-align: right;\n",
       "    }\n",
       "</style>\n",
       "<table border=\"1\" class=\"dataframe\">\n",
       "  <thead>\n",
       "    <tr style=\"text-align: right;\">\n",
       "      <th></th>\n",
       "      <th>image_name</th>\n",
       "      <th>tags</th>\n",
       "    </tr>\n",
       "  </thead>\n",
       "  <tbody>\n",
       "    <tr>\n",
       "      <th>10</th>\n",
       "      <td>train_10</td>\n",
       "      <td>agriculture clear primary slash_burn water</td>\n",
       "    </tr>\n",
       "  </tbody>\n",
       "</table>\n",
       "</div>"
      ],
      "text/plain": [
       "   image_name                                        tags\n",
       "10   train_10  agriculture clear primary slash_burn water"
      ]
     },
     "execution_count": 10,
     "metadata": {},
     "output_type": "execute_result"
    }
   ],
   "source": [
    "train_classes_df[train_classes_df['image_name'] == 'train_10']"
   ]
  },
  {
   "cell_type": "code",
   "execution_count": 11,
   "id": "gentle-armor",
   "metadata": {
    "execution": {
     "iopub.execute_input": "2021-06-22T22:02:57.932873Z",
     "iopub.status.busy": "2021-06-22T22:02:57.932165Z",
     "iopub.status.idle": "2021-06-22T22:02:57.981896Z",
     "shell.execute_reply": "2021-06-22T22:02:57.981371Z",
     "shell.execute_reply.started": "2021-06-22T21:08:36.514844Z"
    },
    "papermill": {
     "duration": 0.090447,
     "end_time": "2021-06-22T22:02:57.982038",
     "exception": false,
     "start_time": "2021-06-22T22:02:57.891591",
     "status": "completed"
    },
    "tags": []
   },
   "outputs": [
    {
     "name": "stdout",
     "output_type": "stream",
     "text": [
      "['partly_cloudy', 'selective_logging', 'blow_down', 'haze', 'cultivation', 'cloudy', 'conventional_mine', 'water', 'clear', 'blooming', 'agriculture', 'artisinal_mine', 'road', 'slash_burn', 'habitation', 'bare_ground', 'primary']\n"
     ]
    }
   ],
   "source": [
    "unique_labels = set()\n",
    "def append_labels(tags):\n",
    "    for tag in tags.split():\n",
    "        unique_labels.add(tag)\n",
    "\n",
    "train_classes = train_classes_df.copy()\n",
    "train_classes['tags'].apply(append_labels)\n",
    "unique_labels = list(unique_labels)\n",
    "print(unique_labels)"
   ]
  },
  {
   "cell_type": "code",
   "execution_count": 12,
   "id": "damaged-stuff",
   "metadata": {
    "execution": {
     "iopub.execute_input": "2021-06-22T22:02:58.061869Z",
     "iopub.status.busy": "2021-06-22T22:02:58.061049Z",
     "iopub.status.idle": "2021-06-22T22:02:58.064524Z",
     "shell.execute_reply": "2021-06-22T22:02:58.064979Z",
     "shell.execute_reply.started": "2021-06-22T21:08:36.57103Z"
    },
    "papermill": {
     "duration": 0.045955,
     "end_time": "2021-06-22T22:02:58.065162",
     "exception": false,
     "start_time": "2021-06-22T22:02:58.019207",
     "status": "completed"
    },
    "tags": []
   },
   "outputs": [
    {
     "data": {
      "text/plain": [
       "17"
      ]
     },
     "execution_count": 12,
     "metadata": {},
     "output_type": "execute_result"
    }
   ],
   "source": [
    "len(unique_labels)"
   ]
  },
  {
   "cell_type": "code",
   "execution_count": 13,
   "id": "french-boards",
   "metadata": {
    "execution": {
     "iopub.execute_input": "2021-06-22T22:02:58.144859Z",
     "iopub.status.busy": "2021-06-22T22:02:58.143877Z",
     "iopub.status.idle": "2021-06-22T22:02:58.157562Z",
     "shell.execute_reply": "2021-06-22T22:02:58.156983Z",
     "shell.execute_reply.started": "2021-06-22T21:08:36.578097Z"
    },
    "papermill": {
     "duration": 0.055425,
     "end_time": "2021-06-22T22:02:58.157715",
     "exception": false,
     "start_time": "2021-06-22T22:02:58.102290",
     "status": "completed"
    },
    "tags": []
   },
   "outputs": [],
   "source": [
    "assert len(train_classes['image_name'].unique()) == train_classes.shape[0]"
   ]
  },
  {
   "cell_type": "code",
   "execution_count": 14,
   "id": "organizational-token",
   "metadata": {
    "execution": {
     "iopub.execute_input": "2021-06-22T22:02:58.244813Z",
     "iopub.status.busy": "2021-06-22T22:02:58.239653Z",
     "iopub.status.idle": "2021-06-22T22:02:58.849596Z",
     "shell.execute_reply": "2021-06-22T22:02:58.849016Z",
     "shell.execute_reply.started": "2021-06-22T21:08:36.599388Z"
    },
    "papermill": {
     "duration": 0.653419,
     "end_time": "2021-06-22T22:02:58.849748",
     "exception": false,
     "start_time": "2021-06-22T22:02:58.196329",
     "status": "completed"
    },
    "tags": []
   },
   "outputs": [
    {
     "data": {
      "text/html": [
       "<div>\n",
       "<style scoped>\n",
       "    .dataframe tbody tr th:only-of-type {\n",
       "        vertical-align: middle;\n",
       "    }\n",
       "\n",
       "    .dataframe tbody tr th {\n",
       "        vertical-align: top;\n",
       "    }\n",
       "\n",
       "    .dataframe thead th {\n",
       "        text-align: right;\n",
       "    }\n",
       "</style>\n",
       "<table border=\"1\" class=\"dataframe\">\n",
       "  <thead>\n",
       "    <tr style=\"text-align: right;\">\n",
       "      <th></th>\n",
       "      <th>image_name</th>\n",
       "      <th>tags</th>\n",
       "      <th>partly_cloudy</th>\n",
       "      <th>selective_logging</th>\n",
       "      <th>blow_down</th>\n",
       "      <th>haze</th>\n",
       "      <th>cultivation</th>\n",
       "      <th>cloudy</th>\n",
       "      <th>conventional_mine</th>\n",
       "      <th>water</th>\n",
       "      <th>clear</th>\n",
       "      <th>blooming</th>\n",
       "      <th>agriculture</th>\n",
       "      <th>artisinal_mine</th>\n",
       "      <th>road</th>\n",
       "      <th>slash_burn</th>\n",
       "      <th>habitation</th>\n",
       "      <th>bare_ground</th>\n",
       "      <th>primary</th>\n",
       "    </tr>\n",
       "  </thead>\n",
       "  <tbody>\n",
       "    <tr>\n",
       "      <th>0</th>\n",
       "      <td>train_0.jpg</td>\n",
       "      <td>haze primary</td>\n",
       "      <td>0</td>\n",
       "      <td>0</td>\n",
       "      <td>0</td>\n",
       "      <td>1</td>\n",
       "      <td>0</td>\n",
       "      <td>0</td>\n",
       "      <td>0</td>\n",
       "      <td>0</td>\n",
       "      <td>0</td>\n",
       "      <td>0</td>\n",
       "      <td>0</td>\n",
       "      <td>0</td>\n",
       "      <td>0</td>\n",
       "      <td>0</td>\n",
       "      <td>0</td>\n",
       "      <td>0</td>\n",
       "      <td>1</td>\n",
       "    </tr>\n",
       "    <tr>\n",
       "      <th>1</th>\n",
       "      <td>train_1.jpg</td>\n",
       "      <td>agriculture clear primary water</td>\n",
       "      <td>0</td>\n",
       "      <td>0</td>\n",
       "      <td>0</td>\n",
       "      <td>0</td>\n",
       "      <td>0</td>\n",
       "      <td>0</td>\n",
       "      <td>0</td>\n",
       "      <td>1</td>\n",
       "      <td>1</td>\n",
       "      <td>0</td>\n",
       "      <td>1</td>\n",
       "      <td>0</td>\n",
       "      <td>0</td>\n",
       "      <td>0</td>\n",
       "      <td>0</td>\n",
       "      <td>0</td>\n",
       "      <td>1</td>\n",
       "    </tr>\n",
       "    <tr>\n",
       "      <th>2</th>\n",
       "      <td>train_2.jpg</td>\n",
       "      <td>clear primary</td>\n",
       "      <td>0</td>\n",
       "      <td>0</td>\n",
       "      <td>0</td>\n",
       "      <td>0</td>\n",
       "      <td>0</td>\n",
       "      <td>0</td>\n",
       "      <td>0</td>\n",
       "      <td>0</td>\n",
       "      <td>1</td>\n",
       "      <td>0</td>\n",
       "      <td>0</td>\n",
       "      <td>0</td>\n",
       "      <td>0</td>\n",
       "      <td>0</td>\n",
       "      <td>0</td>\n",
       "      <td>0</td>\n",
       "      <td>1</td>\n",
       "    </tr>\n",
       "    <tr>\n",
       "      <th>3</th>\n",
       "      <td>train_3.jpg</td>\n",
       "      <td>clear primary</td>\n",
       "      <td>0</td>\n",
       "      <td>0</td>\n",
       "      <td>0</td>\n",
       "      <td>0</td>\n",
       "      <td>0</td>\n",
       "      <td>0</td>\n",
       "      <td>0</td>\n",
       "      <td>0</td>\n",
       "      <td>1</td>\n",
       "      <td>0</td>\n",
       "      <td>0</td>\n",
       "      <td>0</td>\n",
       "      <td>0</td>\n",
       "      <td>0</td>\n",
       "      <td>0</td>\n",
       "      <td>0</td>\n",
       "      <td>1</td>\n",
       "    </tr>\n",
       "    <tr>\n",
       "      <th>4</th>\n",
       "      <td>train_4.jpg</td>\n",
       "      <td>agriculture clear habitation primary road</td>\n",
       "      <td>0</td>\n",
       "      <td>0</td>\n",
       "      <td>0</td>\n",
       "      <td>0</td>\n",
       "      <td>0</td>\n",
       "      <td>0</td>\n",
       "      <td>0</td>\n",
       "      <td>0</td>\n",
       "      <td>1</td>\n",
       "      <td>0</td>\n",
       "      <td>1</td>\n",
       "      <td>0</td>\n",
       "      <td>1</td>\n",
       "      <td>0</td>\n",
       "      <td>1</td>\n",
       "      <td>0</td>\n",
       "      <td>1</td>\n",
       "    </tr>\n",
       "  </tbody>\n",
       "</table>\n",
       "</div>"
      ],
      "text/plain": [
       "    image_name                                       tags  partly_cloudy  \\\n",
       "0  train_0.jpg                               haze primary              0   \n",
       "1  train_1.jpg            agriculture clear primary water              0   \n",
       "2  train_2.jpg                              clear primary              0   \n",
       "3  train_3.jpg                              clear primary              0   \n",
       "4  train_4.jpg  agriculture clear habitation primary road              0   \n",
       "\n",
       "   selective_logging  blow_down  haze  cultivation  cloudy  conventional_mine  \\\n",
       "0                  0          0     1            0       0                  0   \n",
       "1                  0          0     0            0       0                  0   \n",
       "2                  0          0     0            0       0                  0   \n",
       "3                  0          0     0            0       0                  0   \n",
       "4                  0          0     0            0       0                  0   \n",
       "\n",
       "   water  clear  blooming  agriculture  artisinal_mine  road  slash_burn  \\\n",
       "0      0      0         0            0               0     0           0   \n",
       "1      1      1         0            1               0     0           0   \n",
       "2      0      1         0            0               0     0           0   \n",
       "3      0      1         0            0               0     0           0   \n",
       "4      0      1         0            1               0     1           0   \n",
       "\n",
       "   habitation  bare_ground  primary  \n",
       "0           0            0        1  \n",
       "1           0            0        1  \n",
       "2           0            0        1  \n",
       "3           0            0        1  \n",
       "4           1            0        1  "
      ]
     },
     "execution_count": 14,
     "metadata": {},
     "output_type": "execute_result"
    }
   ],
   "source": [
    "for tag in unique_labels:\n",
    "    train_classes[tag] = train_classes['tags'].apply(lambda x: 1 if tag in x.split() else 0)\n",
    "    \n",
    "train_classes['image_name'] = train_classes['image_name'].apply(lambda x: '{}.jpg'.format(x)) \n",
    "train_classes.head()"
   ]
  },
  {
   "cell_type": "code",
   "execution_count": 15,
   "id": "ahead-mapping",
   "metadata": {
    "execution": {
     "iopub.execute_input": "2021-06-22T22:02:58.934325Z",
     "iopub.status.busy": "2021-06-22T22:02:58.933678Z",
     "iopub.status.idle": "2021-06-22T22:03:13.463414Z",
     "shell.execute_reply": "2021-06-22T22:03:13.463878Z",
     "shell.execute_reply.started": "2021-06-22T21:08:37.233435Z"
    },
    "papermill": {
     "duration": 14.576109,
     "end_time": "2021-06-22T22:03:13.464062",
     "exception": false,
     "start_time": "2021-06-22T22:02:58.887953",
     "status": "completed"
    },
    "tags": []
   },
   "outputs": [
    {
     "name": "stdout",
     "output_type": "stream",
     "text": [
      "Found 40479 validated image filenames.\n"
     ]
    }
   ],
   "source": [
    "y_col = list(train_classes.columns[2:])\n",
    "\n",
    "image_gen = tf.keras.preprocessing.image.ImageDataGenerator(rescale=1/255)\n",
    "\n",
    "X = image_gen.flow_from_dataframe(dataframe=train_classes, \\\n",
    "    directory='/kaggle/input/planets-dataset/planet/planet/train-jpg/', x_col='image_name', y_col=y_col, \\\n",
    "    target_size=(128, 128), class_mode='raw', seed=1, batch_size=128)"
   ]
  },
  {
   "cell_type": "code",
   "execution_count": 16,
   "id": "damaged-public",
   "metadata": {
    "execution": {
     "iopub.execute_input": "2021-06-22T22:03:13.547483Z",
     "iopub.status.busy": "2021-06-22T22:03:13.546666Z",
     "iopub.status.idle": "2021-06-22T22:03:15.261654Z",
     "shell.execute_reply": "2021-06-22T22:03:15.260913Z",
     "shell.execute_reply.started": "2021-06-22T21:08:49.765568Z"
    },
    "papermill": {
     "duration": 1.758848,
     "end_time": "2021-06-22T22:03:15.261801",
     "exception": false,
     "start_time": "2021-06-22T22:03:13.502953",
     "status": "completed"
    },
    "tags": []
   },
   "outputs": [
    {
     "name": "stdout",
     "output_type": "stream",
     "text": [
      "each image's shape is (128, 128, 3)\n",
      "each label's shape is (17,)\n",
      "we have 317 batches\n",
      "each batch has 128 images/labels\n",
      "40479/128 is 316.24, so the last batch will have 31 images/labels\n"
     ]
    }
   ],
   "source": [
    "x10 = X[0][0][10]\n",
    "y10 = X[0][1][10]\n",
    "print(f\"each image's shape is {x10.shape}\")\n",
    "print(f\"each label's shape is {y10.shape}\")\n",
    "print(f\"we have {len(X)} batches\")\n",
    "print(f\"each batch has {X[0][0].shape[0]} images/labels\")\n",
    "print('40479/128 is {:.2F}, so the last batch will have {} images/labels'.format(40479/128, X[316][0].shape[0]))"
   ]
  },
  {
   "cell_type": "code",
   "execution_count": 17,
   "id": "consolidated-rugby",
   "metadata": {
    "execution": {
     "iopub.execute_input": "2021-06-22T22:03:15.345608Z",
     "iopub.status.busy": "2021-06-22T22:03:15.344880Z",
     "iopub.status.idle": "2021-06-22T22:03:15.348440Z",
     "shell.execute_reply": "2021-06-22T22:03:15.347766Z",
     "shell.execute_reply.started": "2021-06-22T21:08:50.905605Z"
    },
    "papermill": {
     "duration": 0.047732,
     "end_time": "2021-06-22T22:03:15.348595",
     "exception": false,
     "start_time": "2021-06-22T22:03:15.300863",
     "status": "completed"
    },
    "tags": []
   },
   "outputs": [],
   "source": [
    "from tensorflow.keras.models import Sequential\n",
    "from tensorflow.keras.layers import Dense, Flatten, BatchNormalization, Conv2D\n",
    "from tensorflow.keras.optimizers import Adam\n",
    "from tensorflow.keras.callbacks import EarlyStopping, ModelCheckpoint"
   ]
  },
  {
   "cell_type": "code",
   "execution_count": 18,
   "id": "distant-alloy",
   "metadata": {
    "execution": {
     "iopub.execute_input": "2021-06-22T22:03:15.436341Z",
     "iopub.status.busy": "2021-06-22T22:03:15.435535Z",
     "iopub.status.idle": "2021-06-22T22:03:15.439021Z",
     "shell.execute_reply": "2021-06-22T22:03:15.438480Z",
     "shell.execute_reply.started": "2021-06-22T21:08:50.915271Z"
    },
    "papermill": {
     "duration": 0.051154,
     "end_time": "2021-06-22T22:03:15.439170",
     "exception": false,
     "start_time": "2021-06-22T22:03:15.388016",
     "status": "completed"
    },
    "tags": []
   },
   "outputs": [],
   "source": [
    "def fbeta(ytrue , ypred, beta=2, epsilon=1e-4):\n",
    "    beta_squared = beta**2\n",
    "\n",
    "    ytrue = tf.cast(ytrue, tf.float32)\n",
    "    ypred = tf.cast(tf.greater(tf.cast(ypred, tf.float32), tf.constant(0.5)), tf.float32)\n",
    "        \n",
    "    tp = tf.reduce_sum(ytrue * ypred, axis=1)\n",
    "    fp = tf.reduce_sum(ypred, axis=1) - tp\n",
    "    fn = tf.reduce_sum(ytrue, axis=1) - tp\n",
    "    \n",
    "    precision = tp/(tp+fp+epsilon)\n",
    "    recall = tp/(tp+fn+epsilon)\n",
    "    \n",
    "    fb = (1+beta_squared)*precision*recall / (beta_squared*precision + recall + epsilon)\n",
    "    return fb"
   ]
  },
  {
   "cell_type": "code",
   "execution_count": 19,
   "id": "removed-library",
   "metadata": {
    "execution": {
     "iopub.execute_input": "2021-06-22T22:03:15.539450Z",
     "iopub.status.busy": "2021-06-22T22:03:15.538448Z",
     "iopub.status.idle": "2021-06-22T22:03:15.541322Z",
     "shell.execute_reply": "2021-06-22T22:03:15.540732Z",
     "shell.execute_reply.started": "2021-06-22T21:08:50.934236Z"
    },
    "papermill": {
     "duration": 0.05407,
     "end_time": "2021-06-22T22:03:15.541476",
     "exception": false,
     "start_time": "2021-06-22T22:03:15.487406",
     "status": "completed"
    },
    "tags": []
   },
   "outputs": [],
   "source": [
    "def multi_label_acc(ytrue , ypred, epsilon=1e-4):\n",
    "    \n",
    "    ytrue = tf.cast(ytrue, tf.float32)\n",
    "    ypred = tf.cast(tf.greater(tf.cast(ypred, tf.float32), tf.constant(0.5)), tf.float32)\n",
    "    \n",
    "    tp = tf.reduce_sum(ytrue * ypred, axis=1)\n",
    "    fp = tf.reduce_sum(ypred, axis=1) - tp\n",
    "    fn = tf.reduce_sum(ytrue, axis=1) - tp\n",
    "    \n",
    "    ytrue = tf.cast(ytrue, tf.bool)\n",
    "    ypred = tf.cast(ypred, tf.bool)\n",
    "    \n",
    "    tn = tf.reduce_sum(tf.cast(tf.logical_not(ytrue), tf.float32) * tf.cast(tf.logical_not(ypred), tf.float32),\\\n",
    "                       axis=1)\n",
    "    \n",
    "    return (tp+tn)/(tp+tn+fp+fn+epsilon)"
   ]
  },
  {
   "cell_type": "code",
   "execution_count": 20,
   "id": "average-begin",
   "metadata": {
    "execution": {
     "iopub.execute_input": "2021-06-22T22:03:15.623624Z",
     "iopub.status.busy": "2021-06-22T22:03:15.622629Z",
     "iopub.status.idle": "2021-06-22T22:03:15.628691Z",
     "shell.execute_reply": "2021-06-22T22:03:15.629149Z",
     "shell.execute_reply.started": "2021-06-22T21:08:50.96127Z"
    },
    "papermill": {
     "duration": 0.048635,
     "end_time": "2021-06-22T22:03:15.629345",
     "exception": false,
     "start_time": "2021-06-22T22:03:15.580710",
     "status": "completed"
    },
    "tags": []
   },
   "outputs": [],
   "source": [
    "def build_model():\n",
    "    model = Sequential()\n",
    "    model.add(Conv2D(filters=128, kernel_size=3, input_shape=(128, 128, 3)))\n",
    "    model.add(Flatten())\n",
    "    model.add(Dense(17, activation='sigmoid'))\n",
    "    opt = Adam(lr=1e-2)\n",
    "    model.compile(loss='binary_crossentropy', optimizer=opt, metrics=[multi_label_acc, fbeta])\n",
    "    \n",
    "    return model"
   ]
  },
  {
   "cell_type": "code",
   "execution_count": 21,
   "id": "equivalent-canyon",
   "metadata": {
    "execution": {
     "iopub.execute_input": "2021-06-22T22:03:15.711186Z",
     "iopub.status.busy": "2021-06-22T22:03:15.710204Z",
     "iopub.status.idle": "2021-06-22T22:03:15.714327Z",
     "shell.execute_reply": "2021-06-22T22:03:15.714827Z",
     "shell.execute_reply.started": "2021-06-22T21:08:50.97506Z"
    },
    "papermill": {
     "duration": 0.046682,
     "end_time": "2021-06-22T22:03:15.715003",
     "exception": false,
     "start_time": "2021-06-22T22:03:15.668321",
     "status": "completed"
    },
    "tags": []
   },
   "outputs": [],
   "source": [
    "save_best_check_point = ModelCheckpoint(filepath='best_model.hdf5', monitor='val_fbeta', \\\n",
    "                                        mode='max', save_best_only=True, save_weights_only=True)"
   ]
  },
  {
   "cell_type": "code",
   "execution_count": 22,
   "id": "german-texture",
   "metadata": {
    "execution": {
     "iopub.execute_input": "2021-06-22T22:03:15.796311Z",
     "iopub.status.busy": "2021-06-22T22:03:15.795365Z",
     "iopub.status.idle": "2021-06-22T22:03:37.929656Z",
     "shell.execute_reply": "2021-06-22T22:03:37.928792Z",
     "shell.execute_reply.started": "2021-06-22T21:08:50.995074Z"
    },
    "papermill": {
     "duration": 22.176009,
     "end_time": "2021-06-22T22:03:37.929809",
     "exception": false,
     "start_time": "2021-06-22T22:03:15.753800",
     "status": "completed"
    },
    "tags": []
   },
   "outputs": [
    {
     "name": "stdout",
     "output_type": "stream",
     "text": [
      "Found 32384 validated image filenames.\n",
      "Found 8095 validated image filenames.\n"
     ]
    }
   ],
   "source": [
    "train_image_gen = tf.keras.preprocessing.image.ImageDataGenerator(rescale=1/255,validation_split=0.2)\n",
    "\n",
    "train_gen = train_image_gen.flow_from_dataframe(dataframe=train_classes, \\\n",
    "        directory='../input/planets-dataset/planet/planet/train-jpg/', x_col='image_name', y_col=y_col, \\\n",
    "       target_size=(128, 128), class_mode='raw', seed=0, batch_size=128, subset='training')\n",
    "\n",
    "val_gen = train_image_gen.flow_from_dataframe(dataframe=train_classes, \\\n",
    "        directory='../input/planets-dataset/planet/planet/train-jpg/', x_col='image_name', y_col=y_col, \\\n",
    "       target_size=(128, 128), class_mode='raw', seed=0, batch_size=128, subset='validation')"
   ]
  },
  {
   "cell_type": "code",
   "execution_count": 23,
   "id": "simple-canberra",
   "metadata": {
    "execution": {
     "iopub.execute_input": "2021-06-22T22:03:38.015298Z",
     "iopub.status.busy": "2021-06-22T22:03:38.014646Z",
     "iopub.status.idle": "2021-06-22T22:03:38.016530Z",
     "shell.execute_reply": "2021-06-22T22:03:38.016960Z",
     "shell.execute_reply.started": "2021-06-22T21:08:51.900015Z"
    },
    "papermill": {
     "duration": 0.047445,
     "end_time": "2021-06-22T22:03:38.017130",
     "exception": false,
     "start_time": "2021-06-22T22:03:37.969685",
     "status": "completed"
    },
    "tags": []
   },
   "outputs": [],
   "source": [
    "step_train_size = int(np.ceil(train_gen.samples / train_gen.batch_size))\n",
    "step_val_size = int(np.ceil(val_gen.samples / train_gen.batch_size))"
   ]
  },
  {
   "cell_type": "code",
   "execution_count": 24,
   "id": "historical-nothing",
   "metadata": {
    "execution": {
     "iopub.execute_input": "2021-06-22T22:03:38.100205Z",
     "iopub.status.busy": "2021-06-22T22:03:38.099575Z",
     "iopub.status.idle": "2021-06-22T22:03:38.105355Z",
     "shell.execute_reply": "2021-06-22T22:03:38.104711Z",
     "shell.execute_reply.started": "2021-06-22T21:08:51.90816Z"
    },
    "papermill": {
     "duration": 0.048404,
     "end_time": "2021-06-22T22:03:38.105517",
     "exception": false,
     "start_time": "2021-06-22T22:03:38.057113",
     "status": "completed"
    },
    "tags": []
   },
   "outputs": [
    {
     "data": {
      "text/plain": [
       "317"
      ]
     },
     "execution_count": 24,
     "metadata": {},
     "output_type": "execute_result"
    }
   ],
   "source": [
    "step_train_size+step_val_size"
   ]
  },
  {
   "cell_type": "code",
   "execution_count": 25,
   "id": "broadband-imagination",
   "metadata": {
    "execution": {
     "iopub.execute_input": "2021-06-22T22:03:38.189847Z",
     "iopub.status.busy": "2021-06-22T22:03:38.189116Z",
     "iopub.status.idle": "2021-06-22T22:24:37.034673Z",
     "shell.execute_reply": "2021-06-22T22:24:37.035262Z",
     "shell.execute_reply.started": "2021-06-22T21:08:51.937065Z"
    },
    "papermill": {
     "duration": 1258.889323,
     "end_time": "2021-06-22T22:24:37.035781",
     "exception": false,
     "start_time": "2021-06-22T22:03:38.146458",
     "status": "completed"
    },
    "tags": []
   },
   "outputs": [
    {
     "name": "stdout",
     "output_type": "stream",
     "text": [
      "Epoch 1/2\n",
      "253/253 [==============================] - 621s 2s/step - loss: 111.0729 - multi_label_acc: 0.8343 - fbeta: 0.5678 - val_loss: 78.6872 - val_multi_label_acc: 0.8672 - val_fbeta: 0.6526\n",
      "Epoch 2/2\n",
      "253/253 [==============================] - 636s 3s/step - loss: 16.8437 - multi_label_acc: 0.8667 - fbeta: 0.6243 - val_loss: 0.7339 - val_multi_label_acc: 0.8696 - val_fbeta: 0.6748\n"
     ]
    },
    {
     "data": {
      "text/plain": [
       "<tensorflow.python.keras.callbacks.History at 0x7fdf734ad310>"
      ]
     },
     "execution_count": 25,
     "metadata": {},
     "output_type": "execute_result"
    }
   ],
   "source": [
    "model1 = build_model() \n",
    "\n",
    "model1.fit(x=train_gen, steps_per_epoch=step_train_size, validation_data=val_gen, validation_steps=step_val_size,\n",
    "         epochs=2, callbacks=[save_best_check_point])"
   ]
  },
  {
   "cell_type": "code",
   "execution_count": 26,
   "id": "direct-moore",
   "metadata": {
    "execution": {
     "iopub.execute_input": "2021-06-22T22:24:37.431739Z",
     "iopub.status.busy": "2021-06-22T22:24:37.431039Z",
     "iopub.status.idle": "2021-06-22T22:24:37.896251Z",
     "shell.execute_reply": "2021-06-22T22:24:37.895570Z",
     "shell.execute_reply.started": "2021-06-22T21:31:01.106683Z"
    },
    "papermill": {
     "duration": 0.668074,
     "end_time": "2021-06-22T22:24:37.896392",
     "exception": false,
     "start_time": "2021-06-22T22:24:37.228318",
     "status": "completed"
    },
    "tags": []
   },
   "outputs": [],
   "source": [
    "model2 = build_model()\n",
    "\n",
    "model2.load_weights('best_model.hdf5')"
   ]
  },
  {
   "cell_type": "code",
   "execution_count": 27,
   "id": "involved-subscription",
   "metadata": {
    "execution": {
     "iopub.execute_input": "2021-06-22T22:24:38.397844Z",
     "iopub.status.busy": "2021-06-22T22:24:38.392307Z",
     "iopub.status.idle": "2021-06-22T22:24:38.439917Z",
     "shell.execute_reply": "2021-06-22T22:24:38.440358Z",
     "shell.execute_reply.started": "2021-06-22T21:31:01.615018Z"
    },
    "papermill": {
     "duration": 0.353479,
     "end_time": "2021-06-22T22:24:38.440570",
     "exception": false,
     "start_time": "2021-06-22T22:24:38.087091",
     "status": "completed"
    },
    "tags": []
   },
   "outputs": [
    {
     "data": {
      "text/html": [
       "<div>\n",
       "<style scoped>\n",
       "    .dataframe tbody tr th:only-of-type {\n",
       "        vertical-align: middle;\n",
       "    }\n",
       "\n",
       "    .dataframe tbody tr th {\n",
       "        vertical-align: top;\n",
       "    }\n",
       "\n",
       "    .dataframe thead th {\n",
       "        text-align: right;\n",
       "    }\n",
       "</style>\n",
       "<table border=\"1\" class=\"dataframe\">\n",
       "  <thead>\n",
       "    <tr style=\"text-align: right;\">\n",
       "      <th></th>\n",
       "      <th>image_name</th>\n",
       "      <th>tags</th>\n",
       "    </tr>\n",
       "  </thead>\n",
       "  <tbody>\n",
       "    <tr>\n",
       "      <th>0</th>\n",
       "      <td>test_0.jpg</td>\n",
       "      <td>primary clear agriculture road water</td>\n",
       "    </tr>\n",
       "    <tr>\n",
       "      <th>1</th>\n",
       "      <td>test_1.jpg</td>\n",
       "      <td>primary clear agriculture road water</td>\n",
       "    </tr>\n",
       "    <tr>\n",
       "      <th>2</th>\n",
       "      <td>test_2.jpg</td>\n",
       "      <td>primary clear agriculture road water</td>\n",
       "    </tr>\n",
       "    <tr>\n",
       "      <th>3</th>\n",
       "      <td>test_3.jpg</td>\n",
       "      <td>primary clear agriculture road water</td>\n",
       "    </tr>\n",
       "    <tr>\n",
       "      <th>4</th>\n",
       "      <td>test_4.jpg</td>\n",
       "      <td>primary clear agriculture road water</td>\n",
       "    </tr>\n",
       "  </tbody>\n",
       "</table>\n",
       "</div>"
      ],
      "text/plain": [
       "   image_name                                  tags\n",
       "0  test_0.jpg  primary clear agriculture road water\n",
       "1  test_1.jpg  primary clear agriculture road water\n",
       "2  test_2.jpg  primary clear agriculture road water\n",
       "3  test_3.jpg  primary clear agriculture road water\n",
       "4  test_4.jpg  primary clear agriculture road water"
      ]
     },
     "execution_count": 27,
     "metadata": {},
     "output_type": "execute_result"
    }
   ],
   "source": [
    "sample_sub = sample_sub.copy()\n",
    "sample_sub['image_name'] = sample_sub['image_name'].apply(lambda x: '{}.jpg'.format(x))\n",
    "sample_sub.head()"
   ]
  },
  {
   "cell_type": "code",
   "execution_count": 28,
   "id": "traditional-details",
   "metadata": {
    "execution": {
     "iopub.execute_input": "2021-06-22T22:24:38.828786Z",
     "iopub.status.busy": "2021-06-22T22:24:38.828125Z",
     "iopub.status.idle": "2021-06-22T22:24:38.842689Z",
     "shell.execute_reply": "2021-06-22T22:24:38.842164Z",
     "shell.execute_reply.started": "2021-06-22T21:31:01.66891Z"
    },
    "papermill": {
     "duration": 0.209434,
     "end_time": "2021-06-22T22:24:38.842840",
     "exception": false,
     "start_time": "2021-06-22T22:24:38.633406",
     "status": "completed"
    },
    "tags": []
   },
   "outputs": [
    {
     "data": {
      "text/html": [
       "<div>\n",
       "<style scoped>\n",
       "    .dataframe tbody tr th:only-of-type {\n",
       "        vertical-align: middle;\n",
       "    }\n",
       "\n",
       "    .dataframe tbody tr th {\n",
       "        vertical-align: top;\n",
       "    }\n",
       "\n",
       "    .dataframe thead th {\n",
       "        text-align: right;\n",
       "    }\n",
       "</style>\n",
       "<table border=\"1\" class=\"dataframe\">\n",
       "  <thead>\n",
       "    <tr style=\"text-align: right;\">\n",
       "      <th></th>\n",
       "      <th>image_name</th>\n",
       "    </tr>\n",
       "  </thead>\n",
       "  <tbody>\n",
       "    <tr>\n",
       "      <th>0</th>\n",
       "      <td>test_0.jpg</td>\n",
       "    </tr>\n",
       "    <tr>\n",
       "      <th>1</th>\n",
       "      <td>test_1.jpg</td>\n",
       "    </tr>\n",
       "    <tr>\n",
       "      <th>2</th>\n",
       "      <td>test_2.jpg</td>\n",
       "    </tr>\n",
       "    <tr>\n",
       "      <th>3</th>\n",
       "      <td>test_3.jpg</td>\n",
       "    </tr>\n",
       "    <tr>\n",
       "      <th>4</th>\n",
       "      <td>test_4.jpg</td>\n",
       "    </tr>\n",
       "  </tbody>\n",
       "</table>\n",
       "</div>"
      ],
      "text/plain": [
       "   image_name\n",
       "0  test_0.jpg\n",
       "1  test_1.jpg\n",
       "2  test_2.jpg\n",
       "3  test_3.jpg\n",
       "4  test_4.jpg"
      ]
     },
     "execution_count": 28,
     "metadata": {},
     "output_type": "execute_result"
    }
   ],
   "source": [
    "test1_df = sample_sub.iloc[:40669]['image_name'].reset_index().drop('index', axis=1)\n",
    "test1_df.head()"
   ]
  },
  {
   "cell_type": "code",
   "execution_count": 29,
   "id": "japanese-account",
   "metadata": {
    "execution": {
     "iopub.execute_input": "2021-06-22T22:24:39.240345Z",
     "iopub.status.busy": "2021-06-22T22:24:39.239680Z",
     "iopub.status.idle": "2021-06-22T22:25:10.377314Z",
     "shell.execute_reply": "2021-06-22T22:25:10.377898Z",
     "shell.execute_reply.started": "2021-06-22T21:31:01.685006Z"
    },
    "papermill": {
     "duration": 31.339472,
     "end_time": "2021-06-22T22:25:10.378083",
     "exception": false,
     "start_time": "2021-06-22T22:24:39.038611",
     "status": "completed"
    },
    "tags": []
   },
   "outputs": [
    {
     "name": "stdout",
     "output_type": "stream",
     "text": [
      "Found 40669 validated image filenames.\n"
     ]
    }
   ],
   "source": [
    "test_image_gen1 = tf.keras.preprocessing.image.ImageDataGenerator(rescale=1/255)\n",
    "\n",
    "test_gen1 = test_image_gen1.flow_from_dataframe(dataframe=test1_df, \\\n",
    "            directory='../input/planets-dataset/planet/planet/test-jpg/', x_col='image_name', y_col=None, \\\n",
    "            batch_size=128, shuffle=False, class_mode=None, target_size=(128, 128))\n",
    "\n",
    "step_test_size1 = int(np.ceil(test_gen1.samples / test_gen1.batch_size))"
   ]
  },
  {
   "cell_type": "code",
   "execution_count": 30,
   "id": "cognitive-applicant",
   "metadata": {
    "execution": {
     "iopub.execute_input": "2021-06-22T22:25:10.808016Z",
     "iopub.status.busy": "2021-06-22T22:25:10.806217Z",
     "iopub.status.idle": "2021-06-22T22:31:02.136900Z",
     "shell.execute_reply": "2021-06-22T22:31:02.136161Z",
     "shell.execute_reply.started": "2021-06-22T21:31:14.500076Z"
    },
    "papermill": {
     "duration": 351.534262,
     "end_time": "2021-06-22T22:31:02.137065",
     "exception": false,
     "start_time": "2021-06-22T22:25:10.602803",
     "status": "completed"
    },
    "tags": []
   },
   "outputs": [
    {
     "name": "stdout",
     "output_type": "stream",
     "text": [
      "318/318 [==============================] - 350s 1s/step\n"
     ]
    }
   ],
   "source": [
    "test_gen1.reset() \n",
    "pred1 = model2.predict(test_gen1, steps=step_test_size1, verbose=1)"
   ]
  },
  {
   "cell_type": "code",
   "execution_count": 31,
   "id": "imperial-destruction",
   "metadata": {
    "execution": {
     "iopub.execute_input": "2021-06-22T22:31:02.753834Z",
     "iopub.status.busy": "2021-06-22T22:31:02.753094Z",
     "iopub.status.idle": "2021-06-22T22:31:15.590679Z",
     "shell.execute_reply": "2021-06-22T22:31:15.590028Z",
     "shell.execute_reply.started": "2021-06-22T21:35:51.359401Z"
    },
    "papermill": {
     "duration": 13.15864,
     "end_time": "2021-06-22T22:31:15.590832",
     "exception": false,
     "start_time": "2021-06-22T22:31:02.432192",
     "status": "completed"
    },
    "tags": []
   },
   "outputs": [
    {
     "data": {
      "text/html": [
       "<div>\n",
       "<style scoped>\n",
       "    .dataframe tbody tr th:only-of-type {\n",
       "        vertical-align: middle;\n",
       "    }\n",
       "\n",
       "    .dataframe tbody tr th {\n",
       "        vertical-align: top;\n",
       "    }\n",
       "\n",
       "    .dataframe thead th {\n",
       "        text-align: right;\n",
       "    }\n",
       "</style>\n",
       "<table border=\"1\" class=\"dataframe\">\n",
       "  <thead>\n",
       "    <tr style=\"text-align: right;\">\n",
       "      <th></th>\n",
       "      <th>image_name</th>\n",
       "      <th>tags</th>\n",
       "    </tr>\n",
       "  </thead>\n",
       "  <tbody>\n",
       "    <tr>\n",
       "      <th>0</th>\n",
       "      <td>test_0.jpg</td>\n",
       "      <td>water clear primary</td>\n",
       "    </tr>\n",
       "    <tr>\n",
       "      <th>1</th>\n",
       "      <td>test_1.jpg</td>\n",
       "      <td>water clear primary</td>\n",
       "    </tr>\n",
       "    <tr>\n",
       "      <th>2</th>\n",
       "      <td>test_2.jpg</td>\n",
       "      <td>clear primary</td>\n",
       "    </tr>\n",
       "    <tr>\n",
       "      <th>3</th>\n",
       "      <td>test_3.jpg</td>\n",
       "      <td>water clear primary</td>\n",
       "    </tr>\n",
       "    <tr>\n",
       "      <th>4</th>\n",
       "      <td>test_4.jpg</td>\n",
       "      <td>clear agriculture</td>\n",
       "    </tr>\n",
       "  </tbody>\n",
       "</table>\n",
       "</div>"
      ],
      "text/plain": [
       "   image_name                 tags\n",
       "0  test_0.jpg  water clear primary\n",
       "1  test_1.jpg  water clear primary\n",
       "2  test_2.jpg        clear primary\n",
       "3  test_3.jpg  water clear primary\n",
       "4  test_4.jpg    clear agriculture"
      ]
     },
     "execution_count": 31,
     "metadata": {},
     "output_type": "execute_result"
    }
   ],
   "source": [
    "test_file_names1 = test_gen1.filenames \n",
    "        \n",
    "pred_tags1 = pd.DataFrame(pred1)\n",
    "pred_tags1 = pred_tags1.apply(lambda x: ' '.join(np.array(unique_labels)[x > 0.5]), axis=1)\n",
    "\n",
    "result1 = pd.DataFrame({'image_name': test_file_names1, 'tags': pred_tags1})\n",
    "result1.head()"
   ]
  },
  {
   "cell_type": "code",
   "execution_count": 32,
   "id": "designing-louisville",
   "metadata": {
    "execution": {
     "iopub.execute_input": "2021-06-22T22:31:16.181632Z",
     "iopub.status.busy": "2021-06-22T22:31:16.180843Z",
     "iopub.status.idle": "2021-06-22T22:31:16.191195Z",
     "shell.execute_reply": "2021-06-22T22:31:16.191683Z",
     "shell.execute_reply.started": "2021-06-22T21:36:04.743702Z"
    },
    "papermill": {
     "duration": 0.309968,
     "end_time": "2021-06-22T22:31:16.191866",
     "exception": false,
     "start_time": "2021-06-22T22:31:15.881898",
     "status": "completed"
    },
    "tags": []
   },
   "outputs": [
    {
     "data": {
      "text/html": [
       "<div>\n",
       "<style scoped>\n",
       "    .dataframe tbody tr th:only-of-type {\n",
       "        vertical-align: middle;\n",
       "    }\n",
       "\n",
       "    .dataframe tbody tr th {\n",
       "        vertical-align: top;\n",
       "    }\n",
       "\n",
       "    .dataframe thead th {\n",
       "        text-align: right;\n",
       "    }\n",
       "</style>\n",
       "<table border=\"1\" class=\"dataframe\">\n",
       "  <thead>\n",
       "    <tr style=\"text-align: right;\">\n",
       "      <th></th>\n",
       "      <th>image_name</th>\n",
       "    </tr>\n",
       "  </thead>\n",
       "  <tbody>\n",
       "    <tr>\n",
       "      <th>0</th>\n",
       "      <td>file_0.jpg</td>\n",
       "    </tr>\n",
       "    <tr>\n",
       "      <th>1</th>\n",
       "      <td>file_1.jpg</td>\n",
       "    </tr>\n",
       "    <tr>\n",
       "      <th>2</th>\n",
       "      <td>file_10.jpg</td>\n",
       "    </tr>\n",
       "    <tr>\n",
       "      <th>3</th>\n",
       "      <td>file_100.jpg</td>\n",
       "    </tr>\n",
       "    <tr>\n",
       "      <th>4</th>\n",
       "      <td>file_1000.jpg</td>\n",
       "    </tr>\n",
       "  </tbody>\n",
       "</table>\n",
       "</div>"
      ],
      "text/plain": [
       "      image_name\n",
       "0     file_0.jpg\n",
       "1     file_1.jpg\n",
       "2    file_10.jpg\n",
       "3   file_100.jpg\n",
       "4  file_1000.jpg"
      ]
     },
     "execution_count": 32,
     "metadata": {},
     "output_type": "execute_result"
    }
   ],
   "source": [
    "test2_df = sample_sub.iloc[40669:]['image_name'].reset_index().drop('index', axis=1)\n",
    "test2_df.head()"
   ]
  },
  {
   "cell_type": "code",
   "execution_count": 33,
   "id": "organic-makeup",
   "metadata": {
    "execution": {
     "iopub.execute_input": "2021-06-22T22:31:16.775176Z",
     "iopub.status.busy": "2021-06-22T22:31:16.774516Z",
     "iopub.status.idle": "2021-06-22T22:31:44.096967Z",
     "shell.execute_reply": "2021-06-22T22:31:44.095900Z",
     "shell.execute_reply.started": "2021-06-22T21:36:04.759964Z"
    },
    "papermill": {
     "duration": 27.613083,
     "end_time": "2021-06-22T22:31:44.097145",
     "exception": false,
     "start_time": "2021-06-22T22:31:16.484062",
     "status": "completed"
    },
    "tags": []
   },
   "outputs": [
    {
     "name": "stdout",
     "output_type": "stream",
     "text": [
      "Found 20522 validated image filenames.\n"
     ]
    }
   ],
   "source": [
    "test_image_gen2 = tf.keras.preprocessing.image.ImageDataGenerator(rescale=1/255)\n",
    "\n",
    "test_gen2 = test_image_gen2.flow_from_dataframe(dataframe=test2_df, \\\n",
    "            directory='../input/planets-dataset/test-jpg-additional/test-jpg-additional/', x_col='image_name', \\\n",
    "            y_col=None, batch_size=128, shuffle=False, class_mode=None, target_size=(128, 128))\n",
    "\n",
    "step_test_size2 = int(np.ceil(test_gen2.samples / test_gen2.batch_size))"
   ]
  },
  {
   "cell_type": "code",
   "execution_count": 34,
   "id": "ultimate-dressing",
   "metadata": {
    "execution": {
     "iopub.execute_input": "2021-06-22T22:31:44.692737Z",
     "iopub.status.busy": "2021-06-22T22:31:44.691537Z",
     "iopub.status.idle": "2021-06-22T22:34:34.198647Z",
     "shell.execute_reply": "2021-06-22T22:34:34.198057Z",
     "shell.execute_reply.started": "2021-06-22T21:36:11.098752Z"
    },
    "papermill": {
     "duration": 169.809043,
     "end_time": "2021-06-22T22:34:34.198847",
     "exception": false,
     "start_time": "2021-06-22T22:31:44.389804",
     "status": "completed"
    },
    "tags": []
   },
   "outputs": [
    {
     "name": "stdout",
     "output_type": "stream",
     "text": [
      "161/161 [==============================] - 169s 1s/step\n"
     ]
    }
   ],
   "source": [
    "test_gen2.reset()\n",
    "pred2 = model2.predict(test_gen2, steps=step_test_size2, verbose=1)"
   ]
  },
  {
   "cell_type": "code",
   "execution_count": 35,
   "id": "super-marine",
   "metadata": {
    "execution": {
     "iopub.execute_input": "2021-06-22T22:34:36.941573Z",
     "iopub.status.busy": "2021-06-22T22:34:36.156620Z",
     "iopub.status.idle": "2021-06-22T22:34:41.823262Z",
     "shell.execute_reply": "2021-06-22T22:34:41.823776Z",
     "shell.execute_reply.started": "2021-06-22T21:38:30.428882Z"
    },
    "papermill": {
     "duration": 7.286546,
     "end_time": "2021-06-22T22:34:41.823950",
     "exception": false,
     "start_time": "2021-06-22T22:34:34.537404",
     "status": "completed"
    },
    "tags": []
   },
   "outputs": [
    {
     "data": {
      "text/html": [
       "<div>\n",
       "<style scoped>\n",
       "    .dataframe tbody tr th:only-of-type {\n",
       "        vertical-align: middle;\n",
       "    }\n",
       "\n",
       "    .dataframe tbody tr th {\n",
       "        vertical-align: top;\n",
       "    }\n",
       "\n",
       "    .dataframe thead th {\n",
       "        text-align: right;\n",
       "    }\n",
       "</style>\n",
       "<table border=\"1\" class=\"dataframe\">\n",
       "  <thead>\n",
       "    <tr style=\"text-align: right;\">\n",
       "      <th></th>\n",
       "      <th>image_name</th>\n",
       "      <th>tags</th>\n",
       "    </tr>\n",
       "  </thead>\n",
       "  <tbody>\n",
       "    <tr>\n",
       "      <th>0</th>\n",
       "      <td>file_0.jpg</td>\n",
       "      <td>water clear primary</td>\n",
       "    </tr>\n",
       "    <tr>\n",
       "      <th>1</th>\n",
       "      <td>file_1.jpg</td>\n",
       "      <td>water clear agriculture artisinal_mine road pr...</td>\n",
       "    </tr>\n",
       "    <tr>\n",
       "      <th>2</th>\n",
       "      <td>file_10.jpg</td>\n",
       "      <td>haze agriculture</td>\n",
       "    </tr>\n",
       "    <tr>\n",
       "      <th>3</th>\n",
       "      <td>file_100.jpg</td>\n",
       "      <td>water clear primary</td>\n",
       "    </tr>\n",
       "    <tr>\n",
       "      <th>4</th>\n",
       "      <td>file_1000.jpg</td>\n",
       "      <td>water clear primary</td>\n",
       "    </tr>\n",
       "  </tbody>\n",
       "</table>\n",
       "</div>"
      ],
      "text/plain": [
       "      image_name                                               tags\n",
       "0     file_0.jpg                                water clear primary\n",
       "1     file_1.jpg  water clear agriculture artisinal_mine road pr...\n",
       "2    file_10.jpg                                   haze agriculture\n",
       "3   file_100.jpg                                water clear primary\n",
       "4  file_1000.jpg                                water clear primary"
      ]
     },
     "execution_count": 35,
     "metadata": {},
     "output_type": "execute_result"
    }
   ],
   "source": [
    "test_file_names2 = test_gen2.filenames \n",
    "        \n",
    "pred_tags2 = pd.DataFrame(pred2)\n",
    "pred_tags2 = pred_tags2.apply(lambda x: ' '.join(np.array(unique_labels)[x > 0.5]), axis=1)\n",
    "\n",
    "result2 = pd.DataFrame({'image_name': test_file_names2, 'tags': pred_tags2})\n",
    "result2.head()"
   ]
  },
  {
   "cell_type": "code",
   "execution_count": 36,
   "id": "dried-texture",
   "metadata": {
    "execution": {
     "iopub.execute_input": "2021-06-22T22:34:42.530982Z",
     "iopub.status.busy": "2021-06-22T22:34:42.530177Z",
     "iopub.status.idle": "2021-06-22T22:34:42.551091Z",
     "shell.execute_reply": "2021-06-22T22:34:42.551560Z",
     "shell.execute_reply.started": "2021-06-22T21:38:37.304035Z"
    },
    "papermill": {
     "duration": 0.386016,
     "end_time": "2021-06-22T22:34:42.551747",
     "exception": false,
     "start_time": "2021-06-22T22:34:42.165731",
     "status": "completed"
    },
    "tags": []
   },
   "outputs": [
    {
     "name": "stdout",
     "output_type": "stream",
     "text": [
      "(61191, 2)\n"
     ]
    },
    {
     "data": {
      "text/html": [
       "<div>\n",
       "<style scoped>\n",
       "    .dataframe tbody tr th:only-of-type {\n",
       "        vertical-align: middle;\n",
       "    }\n",
       "\n",
       "    .dataframe tbody tr th {\n",
       "        vertical-align: top;\n",
       "    }\n",
       "\n",
       "    .dataframe thead th {\n",
       "        text-align: right;\n",
       "    }\n",
       "</style>\n",
       "<table border=\"1\" class=\"dataframe\">\n",
       "  <thead>\n",
       "    <tr style=\"text-align: right;\">\n",
       "      <th></th>\n",
       "      <th>image_name</th>\n",
       "      <th>tags</th>\n",
       "    </tr>\n",
       "  </thead>\n",
       "  <tbody>\n",
       "    <tr>\n",
       "      <th>0</th>\n",
       "      <td>test_0.jpg</td>\n",
       "      <td>water clear primary</td>\n",
       "    </tr>\n",
       "    <tr>\n",
       "      <th>1</th>\n",
       "      <td>test_1.jpg</td>\n",
       "      <td>water clear primary</td>\n",
       "    </tr>\n",
       "    <tr>\n",
       "      <th>2</th>\n",
       "      <td>test_2.jpg</td>\n",
       "      <td>clear primary</td>\n",
       "    </tr>\n",
       "    <tr>\n",
       "      <th>3</th>\n",
       "      <td>test_3.jpg</td>\n",
       "      <td>water clear primary</td>\n",
       "    </tr>\n",
       "    <tr>\n",
       "      <th>4</th>\n",
       "      <td>test_4.jpg</td>\n",
       "      <td>clear agriculture</td>\n",
       "    </tr>\n",
       "  </tbody>\n",
       "</table>\n",
       "</div>"
      ],
      "text/plain": [
       "   image_name                 tags\n",
       "0  test_0.jpg  water clear primary\n",
       "1  test_1.jpg  water clear primary\n",
       "2  test_2.jpg        clear primary\n",
       "3  test_3.jpg  water clear primary\n",
       "4  test_4.jpg    clear agriculture"
      ]
     },
     "execution_count": 36,
     "metadata": {},
     "output_type": "execute_result"
    }
   ],
   "source": [
    "final_result = pd.concat([result1, result2])\n",
    "final_result = final_result.reset_index().drop('index', axis=1) \n",
    "\n",
    "print(final_result.shape)\n",
    "final_result.head()"
   ]
  },
  {
   "cell_type": "code",
   "execution_count": 37,
   "id": "separated-murder",
   "metadata": {
    "execution": {
     "iopub.execute_input": "2021-06-22T22:34:43.244219Z",
     "iopub.status.busy": "2021-06-22T22:34:43.243603Z",
     "iopub.status.idle": "2021-06-22T22:34:43.267495Z",
     "shell.execute_reply": "2021-06-22T22:34:43.267986Z",
     "shell.execute_reply.started": "2021-06-22T21:38:37.330428Z"
    },
    "papermill": {
     "duration": 0.37149,
     "end_time": "2021-06-22T22:34:43.268173",
     "exception": false,
     "start_time": "2021-06-22T22:34:42.896683",
     "status": "completed"
    },
    "tags": []
   },
   "outputs": [],
   "source": [
    "assert sum(sample_sub['image_name'] == final_result['image_name']) == 61191"
   ]
  },
  {
   "cell_type": "code",
   "execution_count": 38,
   "id": "photographic-flexibility",
   "metadata": {
    "execution": {
     "iopub.execute_input": "2021-06-22T22:34:43.950641Z",
     "iopub.status.busy": "2021-06-22T22:34:43.949991Z",
     "iopub.status.idle": "2021-06-22T22:34:43.982603Z",
     "shell.execute_reply": "2021-06-22T22:34:43.983069Z",
     "shell.execute_reply.started": "2021-06-22T21:38:37.357007Z"
    },
    "papermill": {
     "duration": 0.375014,
     "end_time": "2021-06-22T22:34:43.983261",
     "exception": false,
     "start_time": "2021-06-22T22:34:43.608247",
     "status": "completed"
    },
    "tags": []
   },
   "outputs": [
    {
     "data": {
      "text/html": [
       "<div>\n",
       "<style scoped>\n",
       "    .dataframe tbody tr th:only-of-type {\n",
       "        vertical-align: middle;\n",
       "    }\n",
       "\n",
       "    .dataframe tbody tr th {\n",
       "        vertical-align: top;\n",
       "    }\n",
       "\n",
       "    .dataframe thead th {\n",
       "        text-align: right;\n",
       "    }\n",
       "</style>\n",
       "<table border=\"1\" class=\"dataframe\">\n",
       "  <thead>\n",
       "    <tr style=\"text-align: right;\">\n",
       "      <th></th>\n",
       "      <th>image_name</th>\n",
       "      <th>tags</th>\n",
       "    </tr>\n",
       "  </thead>\n",
       "  <tbody>\n",
       "    <tr>\n",
       "      <th>0</th>\n",
       "      <td>test_0</td>\n",
       "      <td>water clear primary</td>\n",
       "    </tr>\n",
       "    <tr>\n",
       "      <th>1</th>\n",
       "      <td>test_1</td>\n",
       "      <td>water clear primary</td>\n",
       "    </tr>\n",
       "    <tr>\n",
       "      <th>2</th>\n",
       "      <td>test_2</td>\n",
       "      <td>clear primary</td>\n",
       "    </tr>\n",
       "    <tr>\n",
       "      <th>3</th>\n",
       "      <td>test_3</td>\n",
       "      <td>water clear primary</td>\n",
       "    </tr>\n",
       "    <tr>\n",
       "      <th>4</th>\n",
       "      <td>test_4</td>\n",
       "      <td>clear agriculture</td>\n",
       "    </tr>\n",
       "  </tbody>\n",
       "</table>\n",
       "</div>"
      ],
      "text/plain": [
       "  image_name                 tags\n",
       "0     test_0  water clear primary\n",
       "1     test_1  water clear primary\n",
       "2     test_2        clear primary\n",
       "3     test_3  water clear primary\n",
       "4     test_4    clear agriculture"
      ]
     },
     "execution_count": 38,
     "metadata": {},
     "output_type": "execute_result"
    }
   ],
   "source": [
    "final_result['image_name'] = final_result['image_name'].apply(lambda x: x[:-4])\n",
    "final_result.head()"
   ]
  },
  {
   "cell_type": "code",
   "execution_count": 39,
   "id": "religious-mailing",
   "metadata": {
    "execution": {
     "iopub.execute_input": "2021-06-22T22:34:44.738249Z",
     "iopub.status.busy": "2021-06-22T22:34:44.737213Z",
     "iopub.status.idle": "2021-06-22T22:34:44.929840Z",
     "shell.execute_reply": "2021-06-22T22:34:44.929300Z",
     "shell.execute_reply.started": "2021-06-22T21:38:37.404834Z"
    },
    "papermill": {
     "duration": 0.577695,
     "end_time": "2021-06-22T22:34:44.929984",
     "exception": false,
     "start_time": "2021-06-22T22:34:44.352289",
     "status": "completed"
    },
    "tags": []
   },
   "outputs": [],
   "source": [
    "final_result.to_csv('submission.csv', index=False)"
   ]
  },
  {
   "cell_type": "code",
   "execution_count": null,
   "id": "interpreted-quarterly",
   "metadata": {
    "papermill": {
     "duration": 0.335057,
     "end_time": "2021-06-22T22:34:45.607319",
     "exception": false,
     "start_time": "2021-06-22T22:34:45.272262",
     "status": "completed"
    },
    "tags": []
   },
   "outputs": [],
   "source": []
  }
 ],
 "metadata": {
  "kernelspec": {
   "display_name": "Python 3",
   "language": "python",
   "name": "python3"
  },
  "language_info": {
   "codemirror_mode": {
    "name": "ipython",
    "version": 3
   },
   "file_extension": ".py",
   "mimetype": "text/x-python",
   "name": "python",
   "nbconvert_exporter": "python",
   "pygments_lexer": "ipython3",
   "version": "3.7.10"
  },
  "papermill": {
   "default_parameters": {},
   "duration": 1927.885396,
   "end_time": "2021-06-22T22:34:47.896182",
   "environment_variables": {},
   "exception": null,
   "input_path": "__notebook__.ipynb",
   "output_path": "__notebook__.ipynb",
   "parameters": {},
   "start_time": "2021-06-22T22:02:40.010786",
   "version": "2.3.3"
  }
 },
 "nbformat": 4,
 "nbformat_minor": 5
}
